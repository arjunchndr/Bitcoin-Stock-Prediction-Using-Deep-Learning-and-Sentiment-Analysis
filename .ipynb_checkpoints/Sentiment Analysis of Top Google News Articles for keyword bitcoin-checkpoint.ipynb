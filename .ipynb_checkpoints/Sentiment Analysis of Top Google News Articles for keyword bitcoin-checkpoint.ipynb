{
 "cells": [
  {
   "cell_type": "markdown",
   "metadata": {},
   "source": [
    "# Sentiment Analysis of Top Google News Articles for keyword bitcoin\n",
    "---"
   ]
  },
  {
   "cell_type": "markdown",
   "metadata": {},
   "source": [
    "This notebook outlines my process of analyzing sentiments of each article contained in the article list for a particular date starting from January 7, 2014 up to December 12, 2017 with respect to the keyword **bitcoin**.\n",
    "> You can view how I scraped these articles in this [notebook](Google News Scraper.ipynb).\n",
    "\n",
    "For the analysis and computation of sentiment scores I decided to use Google's [Cloud Natural Language](https://cloud.google.com/natural-language/?utm_source=google&utm_medium=cpc&utm_campaign=na-US-all-en-dr-bkws-all-all-trial-p-dr-1002250&utm_content=text-ad-none-any-DEV_c-CRE_185611873602-ADGP_SKWS+%7C+Multi+%7E+null_Sentiment+Analysis-KWID_43700019167264275-kwd-2176092866&utm_term=KW_sentiment%20analysis-ST_sentiment+analysis&gclid=Cj0KCQiAgs7RBRDoARIsANOo-HhpmqiO5CsfaH9PMwL2dDVs8rrNyeiBE7QSac4Gmzzrgt9YpJlnSAIaAstzEALw_wcB&dclid=CMeTv6zbjdgCFdcKNwodDcQCAA).\n",
    "> **Note**: This notebook was run locally after configuring the local system according the protocols defined [here](https://cloud.google.com/natural-language/docs/quickstart)."
   ]
  },
  {
   "cell_type": "markdown",
   "metadata": {},
   "source": [
    "## Introduction"
   ]
  },
  {
   "cell_type": "markdown",
   "metadata": {},
   "source": [
    "Sentiment analysis attempts to determine the overall attitude (positive or negative) expressed within the text. Sentiment is represented by numerical score and magnitude values."
   ]
  },
  {
   "cell_type": "markdown",
   "metadata": {},
   "source": [
    "### Sentiment Analysis Response Fields"
   ]
  },
  {
   "cell_type": "markdown",
   "metadata": {},
   "source": [
    "A sample analyzeSentiment response to the [Gettysburg Address](https://en.wikipedia.org/wiki/Gettysburg_Address) is shown below:\n",
    "\n",
    "![alt text](analyzeSentiment JSON response.png \"analyzeSentiment JSON response\")"
   ]
  },
  {
   "cell_type": "markdown",
   "metadata": {},
   "source": [
    "These field values are described below:\n",
    "\n",
    "* **documentSentiment** contains the overall sentiment of the document, which consists of the following fields:\n",
    "    * **score** of the sentiment ranges between -1.0 (negative) and 1.0 (positive) and corresponds to the overall emotional leaning of the text.\n",
    "    * **magnitude** indicates the overall strength of emotion (both positive and negative) within the given text, between **0.0** and **+inf**. Unlike **score**, **magnitude** is not normalized; each expression of emotion within the text (both positive and negative) contributes to the text's **magnitude** (so longer text blocks may have greater magnitudes).\n",
    "* **language** contains the language of the document, either passed in the initial request, or automatically detected if absent.\n",
    "* **sentences** contains a list of the sentences extracted from the original document, which contains:\n",
    "    * **sentiment** contains the sentence level sentiment values attached to each sentence, which contain **score** and **magnitude** values as described above.\n",
    "    \n",
    "A response value to the Gettysburg Address of **0.2** score indicates a document which is slightly positive in emotion, while the value of **3.6** indicates a relatively emotional document, given its small size (of about a paragraph). Note that the first sentence of the Gettysburg address contains a very high positive **score** of **0.8**."
   ]
  },
  {
   "cell_type": "markdown",
   "metadata": {},
   "source": [
    "### Interpreting sentiment analysis values"
   ]
  },
  {
   "cell_type": "markdown",
   "metadata": {},
   "source": [
    "The **score** of a document's sentiment indicates the overall emotion of a document. The **magnitude** of a document's sentiment indicates how much emotional content is present within the document, and this value is often proportional to the length of the document.\n",
    "\n",
    "It is important to note that the Natural Language API indicates differences between positive and negative emotion in a document, but does not identify specific positive and negative emotions. For example, \"angry\" and \"sad\" are both considered negative emotions. However, when the Natural Language API analyzes text that is considered \"angry\", or text that is considered \"sad\", the response only indicates that the sentiment in the text is negative, not \"sad\" or \"angry\".\n",
    "\n",
    "A document with a neutral score (around **0.0**) may indicate a low-emotion document, or may indicate mixed emotions, with both high positive and negative values which cancel each out. Generally, you can use **magnitude** values to disambiguate these cases, as truly neutral documents will have a low **magnitude** value, while mixed documents will have higher **magnitude** values.\n",
    "\n",
    "When comparing documents to each other (especially documents of different length), make sure to use the **magnitude** values to calibrate your **scores**, as they can help you gauge the relevant amount of emotional content."
   ]
  },
  {
   "cell_type": "markdown",
   "metadata": {},
   "source": [
    "## Read the Data"
   ]
  },
  {
   "cell_type": "markdown",
   "metadata": {},
   "source": [
    "All article CSVs have been renamed to qualify for alphabetical sorting to enable faster processing of individual months CSV files for years 2015-2017."
   ]
  },
  {
   "cell_type": "markdown",
   "metadata": {},
   "source": [
    "### 2014"
   ]
  },
  {
   "cell_type": "code",
   "execution_count": 1,
   "metadata": {},
   "outputs": [
    {
     "data": {
      "text/html": [
       "<div>\n",
       "<style>\n",
       "    .dataframe thead tr:only-child th {\n",
       "        text-align: right;\n",
       "    }\n",
       "\n",
       "    .dataframe thead th {\n",
       "        text-align: left;\n",
       "    }\n",
       "\n",
       "    .dataframe tbody tr th {\n",
       "        vertical-align: top;\n",
       "    }\n",
       "</style>\n",
       "<table border=\"1\" class=\"dataframe\">\n",
       "  <thead>\n",
       "    <tr style=\"text-align: right;\">\n",
       "      <th></th>\n",
       "      <th>Date</th>\n",
       "      <th>Articles</th>\n",
       "    </tr>\n",
       "  </thead>\n",
       "  <tbody>\n",
       "    <tr>\n",
       "      <th>6</th>\n",
       "      <td>01/07/2014</td>\n",
       "      <td>[Move over Dogecoin: the Herncoin is here. But...</td>\n",
       "    </tr>\n",
       "    <tr>\n",
       "      <th>7</th>\n",
       "      <td>01/08/2014</td>\n",
       "      <td>[Pop star Lily Allen has voiced her regret at ...</td>\n",
       "    </tr>\n",
       "    <tr>\n",
       "      <th>8</th>\n",
       "      <td>01/09/2014</td>\n",
       "      <td>[The world's first insured bitcoin storage ser...</td>\n",
       "    </tr>\n",
       "    <tr>\n",
       "      <th>9</th>\n",
       "      <td>01/10/2014</td>\n",
       "      <td>[Less than 30 minutes after online retailer Ov...</td>\n",
       "    </tr>\n",
       "    <tr>\n",
       "      <th>10</th>\n",
       "      <td>01/11/2014</td>\n",
       "      <td>[The price of bitcoin reached $1,000 again tod...</td>\n",
       "    </tr>\n",
       "  </tbody>\n",
       "</table>\n",
       "</div>"
      ],
      "text/plain": [
       "          Date                                           Articles\n",
       "6   01/07/2014  [Move over Dogecoin: the Herncoin is here. But...\n",
       "7   01/08/2014  [Pop star Lily Allen has voiced her regret at ...\n",
       "8   01/09/2014  [The world's first insured bitcoin storage ser...\n",
       "9   01/10/2014  [Less than 30 minutes after online retailer Ov...\n",
       "10  01/11/2014  [The price of bitcoin reached $1,000 again tod..."
      ]
     },
     "execution_count": 1,
     "metadata": {},
     "output_type": "execute_result"
    }
   ],
   "source": [
    "import pandas as pd\n",
    "from ast import literal_eval\n",
    "\n",
    "# pd.set_option('display.max_rows', 500) ##Uncomment if you want to view entire dataframe\n",
    "\n",
    "# Year 2014 Articles\n",
    "df_2014 = pd.read_csv('Articles/2014/articles_2014.csv', converters={\"Articles\": literal_eval})\n",
    "\n",
    "# Function to remove articles containing '\\n\\n' and omit empty list items\n",
    "def clean_article_list(articles_list):\n",
    "    articles_list[:] = [article.replace('\\n\\n','') for article in articles_list if article != \"\"]\n",
    "    return articles_list\n",
    "\n",
    "# Applying above function    \n",
    "df_2014['Articles'] = df_2014['Articles'].apply(clean_article_list)\n",
    "\n",
    "# Uniformity with respect to historical bitcoin price values date range\n",
    "df_2014 = df_2014[df_2014['Date']>'01/06/2014']\n",
    "\n",
    "df_2014.head()"
   ]
  },
  {
   "cell_type": "markdown",
   "metadata": {},
   "source": [
    "### 2015"
   ]
  },
  {
   "cell_type": "code",
   "execution_count": 2,
   "metadata": {},
   "outputs": [
    {
     "data": {
      "text/html": [
       "<div>\n",
       "<style>\n",
       "    .dataframe thead tr:only-child th {\n",
       "        text-align: right;\n",
       "    }\n",
       "\n",
       "    .dataframe thead th {\n",
       "        text-align: left;\n",
       "    }\n",
       "\n",
       "    .dataframe tbody tr th {\n",
       "        vertical-align: top;\n",
       "    }\n",
       "</style>\n",
       "<table border=\"1\" class=\"dataframe\">\n",
       "  <thead>\n",
       "    <tr style=\"text-align: right;\">\n",
       "      <th></th>\n",
       "      <th>Date</th>\n",
       "      <th>Articles</th>\n",
       "    </tr>\n",
       "  </thead>\n",
       "  <tbody>\n",
       "    <tr>\n",
       "      <th>0</th>\n",
       "      <td>01/01/2015</td>\n",
       "      <td>[The disappearance of 99% of the bitcoins miss...</td>\n",
       "    </tr>\n",
       "    <tr>\n",
       "      <th>1</th>\n",
       "      <td>01/02/2015</td>\n",
       "      <td>[[Editor's note: The original version of this ...</td>\n",
       "    </tr>\n",
       "    <tr>\n",
       "      <th>2</th>\n",
       "      <td>01/03/2015</td>\n",
       "      <td>[So, it happened. After some time moving in a ...</td>\n",
       "    </tr>\n",
       "    <tr>\n",
       "      <th>3</th>\n",
       "      <td>01/04/2015</td>\n",
       "      <td>[2014 was a bad year for people who own bitcoi...</td>\n",
       "    </tr>\n",
       "    <tr>\n",
       "      <th>4</th>\n",
       "      <td>01/05/2015</td>\n",
       "      <td>[UPDATE (5th January 09:43 GMT): Bitstamp has ...</td>\n",
       "    </tr>\n",
       "  </tbody>\n",
       "</table>\n",
       "</div>"
      ],
      "text/plain": [
       "         Date                                           Articles\n",
       "0  01/01/2015  [The disappearance of 99% of the bitcoins miss...\n",
       "1  01/02/2015  [[Editor's note: The original version of this ...\n",
       "2  01/03/2015  [So, it happened. After some time moving in a ...\n",
       "3  01/04/2015  [2014 was a bad year for people who own bitcoi...\n",
       "4  01/05/2015  [UPDATE (5th January 09:43 GMT): Bitstamp has ..."
      ]
     },
     "execution_count": 2,
     "metadata": {},
     "output_type": "execute_result"
    }
   ],
   "source": [
    "import os, glob\n",
    "\n",
    "path = 'Articles/2015'\n",
    "all_files = sorted(glob.glob(os.path.join(path, \"*.csv\")))\n",
    "\n",
    "# Year 2015 Articles\n",
    "df_2015 = pd.concat((pd.read_csv(f, converters={\"Articles\": literal_eval}, encoding='windows-1252', index_col=None, header=0) for f in all_files))\n",
    "\n",
    "df_2015['Articles'] = df_2015['Articles'].apply(clean_article_list)\n",
    "\n",
    "df_2015.head()"
   ]
  },
  {
   "cell_type": "markdown",
   "metadata": {},
   "source": [
    "### 2016"
   ]
  },
  {
   "cell_type": "code",
   "execution_count": 3,
   "metadata": {},
   "outputs": [
    {
     "data": {
      "text/html": [
       "<div>\n",
       "<style>\n",
       "    .dataframe thead tr:only-child th {\n",
       "        text-align: right;\n",
       "    }\n",
       "\n",
       "    .dataframe thead th {\n",
       "        text-align: left;\n",
       "    }\n",
       "\n",
       "    .dataframe tbody tr th {\n",
       "        vertical-align: top;\n",
       "    }\n",
       "</style>\n",
       "<table border=\"1\" class=\"dataframe\">\n",
       "  <thead>\n",
       "    <tr style=\"text-align: right;\">\n",
       "      <th></th>\n",
       "      <th>Date</th>\n",
       "      <th>Articles</th>\n",
       "    </tr>\n",
       "  </thead>\n",
       "  <tbody>\n",
       "    <tr>\n",
       "      <th>0</th>\n",
       "      <td>01/01/2016</td>\n",
       "      <td>[Bitcoin Weekly Recap 1-1-2016Happy New Year f...</td>\n",
       "    </tr>\n",
       "    <tr>\n",
       "      <th>1</th>\n",
       "      <td>01/02/2016</td>\n",
       "      <td>[The most epochal financial transaction of thi...</td>\n",
       "    </tr>\n",
       "    <tr>\n",
       "      <th>2</th>\n",
       "      <td>01/03/2016</td>\n",
       "      <td>[Like most coffee shops, Java Express in Dougl...</td>\n",
       "    </tr>\n",
       "    <tr>\n",
       "      <th>3</th>\n",
       "      <td>01/04/2016</td>\n",
       "      <td>[Mike Tyson’s Bitcoin ambitions don’t stop wit...</td>\n",
       "    </tr>\n",
       "    <tr>\n",
       "      <th>4</th>\n",
       "      <td>01/05/2016</td>\n",
       "      <td>[Movie star and former heavyweight champion of...</td>\n",
       "    </tr>\n",
       "  </tbody>\n",
       "</table>\n",
       "</div>"
      ],
      "text/plain": [
       "         Date                                           Articles\n",
       "0  01/01/2016  [Bitcoin Weekly Recap 1-1-2016Happy New Year f...\n",
       "1  01/02/2016  [The most epochal financial transaction of thi...\n",
       "2  01/03/2016  [Like most coffee shops, Java Express in Dougl...\n",
       "3  01/04/2016  [Mike Tyson’s Bitcoin ambitions don’t stop wit...\n",
       "4  01/05/2016  [Movie star and former heavyweight champion of..."
      ]
     },
     "execution_count": 3,
     "metadata": {},
     "output_type": "execute_result"
    }
   ],
   "source": [
    "import os, glob\n",
    "path = 'Articles/2016'\n",
    "all_files = sorted(glob.glob(os.path.join(path, \"*.csv\")))\n",
    "\n",
    "# Year 2016 Articles\n",
    "df_2016_1 = pd.concat((pd.read_csv(f, converters={\"Articles\": literal_eval}, encoding='windows-1252', index_col=None, header=0) for f in all_files[0:7]))\n",
    "df_2016_2 = pd.concat((pd.read_csv(f, converters={\"Articles\": literal_eval}, index_col=None, header=0) for f in all_files[7:]))\n",
    "df_2016 = pd.concat([df_2016_1,df_2016_2])\n",
    "\n",
    "df_2016['Articles'] = df_2016['Articles'].apply(clean_article_list)\n",
    "\n",
    "df_2016.head()"
   ]
  },
  {
   "cell_type": "markdown",
   "metadata": {},
   "source": [
    "### 2017"
   ]
  },
  {
   "cell_type": "code",
   "execution_count": 4,
   "metadata": {},
   "outputs": [
    {
     "data": {
      "text/html": [
       "<div>\n",
       "<style>\n",
       "    .dataframe thead tr:only-child th {\n",
       "        text-align: right;\n",
       "    }\n",
       "\n",
       "    .dataframe thead th {\n",
       "        text-align: left;\n",
       "    }\n",
       "\n",
       "    .dataframe tbody tr th {\n",
       "        vertical-align: top;\n",
       "    }\n",
       "</style>\n",
       "<table border=\"1\" class=\"dataframe\">\n",
       "  <thead>\n",
       "    <tr style=\"text-align: right;\">\n",
       "      <th></th>\n",
       "      <th>Date</th>\n",
       "      <th>Articles</th>\n",
       "    </tr>\n",
       "  </thead>\n",
       "  <tbody>\n",
       "    <tr>\n",
       "      <th>0</th>\n",
       "      <td>01/01/2017</td>\n",
       "      <td>[The price of bitcoin inched upward over the c...</td>\n",
       "    </tr>\n",
       "    <tr>\n",
       "      <th>1</th>\n",
       "      <td>01/02/2017</td>\n",
       "      <td>[LONDON (Reuters) - Digital currency bitcoin k...</td>\n",
       "    </tr>\n",
       "    <tr>\n",
       "      <th>2</th>\n",
       "      <td>01/03/2017</td>\n",
       "      <td>[Image copyright Getty ImagesDigital currency ...</td>\n",
       "    </tr>\n",
       "    <tr>\n",
       "      <th>3</th>\n",
       "      <td>01/04/2017</td>\n",
       "      <td>[Bitcoin hit an all-time high Wednesday, accor...</td>\n",
       "    </tr>\n",
       "    <tr>\n",
       "      <th>4</th>\n",
       "      <td>01/05/2017</td>\n",
       "      <td>[Bitcoin is off the lowest levels of its plung...</td>\n",
       "    </tr>\n",
       "  </tbody>\n",
       "</table>\n",
       "</div>"
      ],
      "text/plain": [
       "         Date                                           Articles\n",
       "0  01/01/2017  [The price of bitcoin inched upward over the c...\n",
       "1  01/02/2017  [LONDON (Reuters) - Digital currency bitcoin k...\n",
       "2  01/03/2017  [Image copyright Getty ImagesDigital currency ...\n",
       "3  01/04/2017  [Bitcoin hit an all-time high Wednesday, accor...\n",
       "4  01/05/2017  [Bitcoin is off the lowest levels of its plung..."
      ]
     },
     "execution_count": 4,
     "metadata": {},
     "output_type": "execute_result"
    }
   ],
   "source": [
    "import os, glob\n",
    "path = 'Articles/2017'\n",
    "all_files = sorted(glob.glob(os.path.join(path, \"*.csv\")))\n",
    "\n",
    "# Year 2017 Articles\n",
    "df_2017_1 = pd.concat((pd.read_csv(f, converters={\"Articles\": literal_eval}, index_col=None, header=0) for f in all_files[0:2]))\n",
    "df_2017_2 = pd.concat((pd.read_csv(f, converters={\"Articles\": literal_eval}, encoding='windows-1252', index_col=None, header=0) for f in all_files[2:]))\n",
    "df_2017 = pd.concat([df_2017_1,df_2017_2])\n",
    "\n",
    "df_2017['Articles'] = df_2017['Articles'].apply(clean_article_list)\n",
    "\n",
    "df_2017.head()"
   ]
  },
  {
   "cell_type": "markdown",
   "metadata": {},
   "source": [
    "### Final Dataframe"
   ]
  },
  {
   "cell_type": "code",
   "execution_count": 5,
   "metadata": {},
   "outputs": [
    {
     "data": {
      "text/html": [
       "<div>\n",
       "<style>\n",
       "    .dataframe thead tr:only-child th {\n",
       "        text-align: right;\n",
       "    }\n",
       "\n",
       "    .dataframe thead th {\n",
       "        text-align: left;\n",
       "    }\n",
       "\n",
       "    .dataframe tbody tr th {\n",
       "        vertical-align: top;\n",
       "    }\n",
       "</style>\n",
       "<table border=\"1\" class=\"dataframe\">\n",
       "  <thead>\n",
       "    <tr style=\"text-align: right;\">\n",
       "      <th></th>\n",
       "      <th>Date</th>\n",
       "      <th>Articles</th>\n",
       "      <th>Num of Articles</th>\n",
       "    </tr>\n",
       "  </thead>\n",
       "  <tbody>\n",
       "    <tr>\n",
       "      <th>6</th>\n",
       "      <td>01/07/2014</td>\n",
       "      <td>[Move over Dogecoin: the Herncoin is here. But...</td>\n",
       "      <td>10</td>\n",
       "    </tr>\n",
       "    <tr>\n",
       "      <th>7</th>\n",
       "      <td>01/08/2014</td>\n",
       "      <td>[Pop star Lily Allen has voiced her regret at ...</td>\n",
       "      <td>10</td>\n",
       "    </tr>\n",
       "    <tr>\n",
       "      <th>8</th>\n",
       "      <td>01/09/2014</td>\n",
       "      <td>[The world's first insured bitcoin storage ser...</td>\n",
       "      <td>10</td>\n",
       "    </tr>\n",
       "    <tr>\n",
       "      <th>9</th>\n",
       "      <td>01/10/2014</td>\n",
       "      <td>[Less than 30 minutes after online retailer Ov...</td>\n",
       "      <td>10</td>\n",
       "    </tr>\n",
       "    <tr>\n",
       "      <th>10</th>\n",
       "      <td>01/11/2014</td>\n",
       "      <td>[The price of bitcoin reached $1,000 again tod...</td>\n",
       "      <td>8</td>\n",
       "    </tr>\n",
       "  </tbody>\n",
       "</table>\n",
       "</div>"
      ],
      "text/plain": [
       "          Date                                           Articles  \\\n",
       "6   01/07/2014  [Move over Dogecoin: the Herncoin is here. But...   \n",
       "7   01/08/2014  [Pop star Lily Allen has voiced her regret at ...   \n",
       "8   01/09/2014  [The world's first insured bitcoin storage ser...   \n",
       "9   01/10/2014  [Less than 30 minutes after online retailer Ov...   \n",
       "10  01/11/2014  [The price of bitcoin reached $1,000 again tod...   \n",
       "\n",
       "    Num of Articles  \n",
       "6                10  \n",
       "7                10  \n",
       "8                10  \n",
       "9                10  \n",
       "10                8  "
      ]
     },
     "execution_count": 5,
     "metadata": {},
     "output_type": "execute_result"
    }
   ],
   "source": [
    "df_bitcoin_articles = pd.concat([df_2014, df_2015, df_2016, df_2017])\n",
    "df_bitcoin_articles['Num of Articles'] = df_bitcoin_articles['Articles'].map(lambda x: len(x))\n",
    "df_bitcoin_articles.head()"
   ]
  },
  {
   "cell_type": "markdown",
   "metadata": {},
   "source": [
    "### Writing final dataframe to CSV"
   ]
  },
  {
   "cell_type": "code",
   "execution_count": 6,
   "metadata": {},
   "outputs": [],
   "source": [
    "# Output has been computed and stored in the Articles/Combined folder\n",
    "# Uncomment if you want to compute output again\n",
    "\n",
    "# df_bitcoin_articles.to_csv('bitcoin_news_articles_2014_2017.csv', index=False)"
   ]
  },
  {
   "cell_type": "markdown",
   "metadata": {},
   "source": [
    "## Compute Sentiment Scores and Classify News Articles"
   ]
  },
  {
   "cell_type": "markdown",
   "metadata": {},
   "source": [
    "Extend the logic below for the years 2014, 2015 and 2017."
   ]
  },
  {
   "cell_type": "code",
   "execution_count": 7,
   "metadata": {},
   "outputs": [
    {
     "data": {
      "text/html": [
       "<div>\n",
       "<style>\n",
       "    .dataframe thead tr:only-child th {\n",
       "        text-align: right;\n",
       "    }\n",
       "\n",
       "    .dataframe thead th {\n",
       "        text-align: left;\n",
       "    }\n",
       "\n",
       "    .dataframe tbody tr th {\n",
       "        vertical-align: top;\n",
       "    }\n",
       "</style>\n",
       "<table border=\"1\" class=\"dataframe\">\n",
       "  <thead>\n",
       "    <tr style=\"text-align: right;\">\n",
       "      <th></th>\n",
       "      <th>Date</th>\n",
       "      <th>Articles</th>\n",
       "      <th>Article[Sentiment,Magnitude]</th>\n",
       "    </tr>\n",
       "  </thead>\n",
       "  <tbody>\n",
       "    <tr>\n",
       "      <th>0</th>\n",
       "      <td>01/01/2016</td>\n",
       "      <td>[[-0.10000000149011612, 7.900000095367432], [0...</td>\n",
       "      <td>[[-0.10000000149011612, 7.900000095367432], [0...</td>\n",
       "    </tr>\n",
       "    <tr>\n",
       "      <th>1</th>\n",
       "      <td>01/02/2016</td>\n",
       "      <td>[[0.0, 16.700000762939453], [0.0, 13.800000190...</td>\n",
       "      <td>[[0.0, 16.700000762939453], [0.0, 13.800000190...</td>\n",
       "    </tr>\n",
       "    <tr>\n",
       "      <th>2</th>\n",
       "      <td>01/03/2016</td>\n",
       "      <td>[[0.10000000149011612, 9.0], [0.10000000149011...</td>\n",
       "      <td>[[0.10000000149011612, 9.0], [0.10000000149011...</td>\n",
       "    </tr>\n",
       "    <tr>\n",
       "      <th>3</th>\n",
       "      <td>01/04/2016</td>\n",
       "      <td>[[0.0, 1.899999976158142], [0.0, 13.3000001907...</td>\n",
       "      <td>[[0.0, 1.899999976158142], [0.0, 13.3000001907...</td>\n",
       "    </tr>\n",
       "    <tr>\n",
       "      <th>4</th>\n",
       "      <td>01/05/2016</td>\n",
       "      <td>[[0.20000000298023224, 8.600000381469727], [0....</td>\n",
       "      <td>[[0.20000000298023224, 8.600000381469727], [0....</td>\n",
       "    </tr>\n",
       "  </tbody>\n",
       "</table>\n",
       "</div>"
      ],
      "text/plain": [
       "         Date                                           Articles  \\\n",
       "0  01/01/2016  [[-0.10000000149011612, 7.900000095367432], [0...   \n",
       "1  01/02/2016  [[0.0, 16.700000762939453], [0.0, 13.800000190...   \n",
       "2  01/03/2016  [[0.10000000149011612, 9.0], [0.10000000149011...   \n",
       "3  01/04/2016  [[0.0, 1.899999976158142], [0.0, 13.3000001907...   \n",
       "4  01/05/2016  [[0.20000000298023224, 8.600000381469727], [0....   \n",
       "\n",
       "                        Article[Sentiment,Magnitude]  \n",
       "0  [[-0.10000000149011612, 7.900000095367432], [0...  \n",
       "1  [[0.0, 16.700000762939453], [0.0, 13.800000190...  \n",
       "2  [[0.10000000149011612, 9.0], [0.10000000149011...  \n",
       "3  [[0.0, 1.899999976158142], [0.0, 13.3000001907...  \n",
       "4  [[0.20000000298023224, 8.600000381469727], [0....  "
      ]
     },
     "execution_count": 7,
     "metadata": {},
     "output_type": "execute_result"
    }
   ],
   "source": [
    "# Imports the Google Cloud client library\n",
    "from google.cloud import language\n",
    "from google.cloud.language import enums\n",
    "from google.cloud.language import types\n",
    "\n",
    "import os\n",
    "os.environ[\"GOOGLE_APPLICATION_CREDENTIALS\"]=\"My-First-Project-3377f41be4cf.json\"\n",
    "\n",
    "# Instantiates a client\n",
    "client = language.LanguageServiceClient()\n",
    "\n",
    "def compute_sentiment_scores(articles_list):\n",
    "    try:\n",
    "        articles_list[:] = [[client.analyze_sentiment(document=language.types.Document(content=article,type='PLAIN_TEXT',), encoding_type='UTF32',).document_sentiment.score, client.analyze_sentiment(document=language.types.Document(content=article,type='PLAIN_TEXT',), encoding_type='UTF32',).document_sentiment.magnitude] for article in articles_list]\n",
    "    except:\n",
    "        for article in articles_list:\n",
    "            articles_list.remove(article)\n",
    "    return articles_list\n",
    "\n",
    "df_2016['Article[Sentiment,Magnitude]'] = df_2016['Articles'].apply(compute_sentiment_scores)\n",
    "df_2016.head()"
   ]
  },
  {
   "cell_type": "code",
   "execution_count": 8,
   "metadata": {},
   "outputs": [],
   "source": [
    "df_2016.to_csv('articles_sentiments_2016.csv', index=False)"
   ]
  },
  {
   "cell_type": "markdown",
   "metadata": {},
   "source": [
    "### Read and merge CSVs for article sentiments"
   ]
  },
  {
   "cell_type": "code",
   "execution_count": 94,
   "metadata": {},
   "outputs": [],
   "source": [
    "import pandas as pd\n",
    "from ast import literal_eval\n",
    "\n",
    "articles_sentiments_2014 = pd.read_csv('Article Sentiments/articles_sentiments_2014.csv', converters={\"Article[Sentiment,Magnitude]\": literal_eval})\n",
    "articles_sentiments_2014 = articles_sentiments_2014.drop(['Articles'],axis=1)\n",
    "articles_sentiments_2015 = pd.read_csv('Article Sentiments/articles_sentiments_2015.csv', converters={\"Article[Sentiment,Magnitude]\": literal_eval})\n",
    "articles_sentiments_2015 = articles_sentiments_2015.drop(['Articles'],axis=1)\n",
    "articles_sentiments_2016 = pd.read_csv('Article Sentiments/articles_sentiments_2016.csv', converters={\"Article[Sentiment,Magnitude]\": literal_eval})\n",
    "articles_sentiments_2016 = articles_sentiments_2016.drop(['Articles'],axis=1)\n",
    "articles_sentiments_2017 = pd.read_csv('Article Sentiments/articles_sentiments_2017.csv', converters={\"Article[Sentiment,Magnitude]\": literal_eval})\n",
    "articles_sentiments_2017 = articles_sentiments_2017.drop(['Articles'],axis=1)"
   ]
  },
  {
   "cell_type": "code",
   "execution_count": 95,
   "metadata": {},
   "outputs": [
    {
     "data": {
      "text/html": [
       "<div>\n",
       "<style>\n",
       "    .dataframe thead tr:only-child th {\n",
       "        text-align: right;\n",
       "    }\n",
       "\n",
       "    .dataframe thead th {\n",
       "        text-align: left;\n",
       "    }\n",
       "\n",
       "    .dataframe tbody tr th {\n",
       "        vertical-align: top;\n",
       "    }\n",
       "</style>\n",
       "<table border=\"1\" class=\"dataframe\">\n",
       "  <thead>\n",
       "    <tr style=\"text-align: right;\">\n",
       "      <th></th>\n",
       "      <th>Date</th>\n",
       "      <th>Article[Sentiment,Magnitude]</th>\n",
       "    </tr>\n",
       "  </thead>\n",
       "  <tbody>\n",
       "    <tr>\n",
       "      <th>0</th>\n",
       "      <td>01/07/2014</td>\n",
       "      <td>[[0.0, 17.5], [0.0, 10.100000381469727], [-0.3...</td>\n",
       "    </tr>\n",
       "    <tr>\n",
       "      <th>1</th>\n",
       "      <td>01/08/2014</td>\n",
       "      <td>[[-0.30000001192092896, 1.399999976158142], [0...</td>\n",
       "    </tr>\n",
       "    <tr>\n",
       "      <th>2</th>\n",
       "      <td>01/09/2014</td>\n",
       "      <td>[[0.0, 7.199999809265137], [-0.400000005960464...</td>\n",
       "    </tr>\n",
       "    <tr>\n",
       "      <th>3</th>\n",
       "      <td>01/10/2014</td>\n",
       "      <td>[[0.20000000298023224, 10.199999809265137], [-...</td>\n",
       "    </tr>\n",
       "    <tr>\n",
       "      <th>4</th>\n",
       "      <td>01/11/2014</td>\n",
       "      <td>[[0.10000000149011612, 9.399999618530273], [0....</td>\n",
       "    </tr>\n",
       "    <tr>\n",
       "      <th>5</th>\n",
       "      <td>01/12/2014</td>\n",
       "      <td>[This past week, online retailer Overstock.com...</td>\n",
       "    </tr>\n",
       "    <tr>\n",
       "      <th>6</th>\n",
       "      <td>01/13/2014</td>\n",
       "      <td>[[-0.20000000298023224, 2.200000047683716], [0...</td>\n",
       "    </tr>\n",
       "  </tbody>\n",
       "</table>\n",
       "</div>"
      ],
      "text/plain": [
       "         Date                       Article[Sentiment,Magnitude]\n",
       "0  01/07/2014  [[0.0, 17.5], [0.0, 10.100000381469727], [-0.3...\n",
       "1  01/08/2014  [[-0.30000001192092896, 1.399999976158142], [0...\n",
       "2  01/09/2014  [[0.0, 7.199999809265137], [-0.400000005960464...\n",
       "3  01/10/2014  [[0.20000000298023224, 10.199999809265137], [-...\n",
       "4  01/11/2014  [[0.10000000149011612, 9.399999618530273], [0....\n",
       "5  01/12/2014  [This past week, online retailer Overstock.com...\n",
       "6  01/13/2014  [[-0.20000000298023224, 2.200000047683716], [0..."
      ]
     },
     "execution_count": 95,
     "metadata": {},
     "output_type": "execute_result"
    }
   ],
   "source": [
    "articles_sentiments_1 = pd.concat([articles_sentiments_2014,articles_sentiments_2015])\n",
    "articles_sentiments_2 = pd.concat([articles_sentiments_2016,articles_sentiments_2017])\n",
    "\n",
    "articles_sentiments = pd.concat([articles_sentiments_1,articles_sentiments_2])\n",
    "        \n",
    "articles_sentiments.head(7)"
   ]
  },
  {
   "cell_type": "markdown",
   "metadata": {},
   "source": [
    "### Clean the Combined Articles Sentiment CSV"
   ]
  },
  {
   "cell_type": "code",
   "execution_count": 96,
   "metadata": {},
   "outputs": [
    {
     "data": {
      "text/html": [
       "<div>\n",
       "<style>\n",
       "    .dataframe thead tr:only-child th {\n",
       "        text-align: right;\n",
       "    }\n",
       "\n",
       "    .dataframe thead th {\n",
       "        text-align: left;\n",
       "    }\n",
       "\n",
       "    .dataframe tbody tr th {\n",
       "        vertical-align: top;\n",
       "    }\n",
       "</style>\n",
       "<table border=\"1\" class=\"dataframe\">\n",
       "  <thead>\n",
       "    <tr style=\"text-align: right;\">\n",
       "      <th></th>\n",
       "      <th>Date</th>\n",
       "      <th>Article[Sentiment,Magnitude]</th>\n",
       "    </tr>\n",
       "  </thead>\n",
       "  <tbody>\n",
       "    <tr>\n",
       "      <th>0</th>\n",
       "      <td>01/07/2014</td>\n",
       "      <td>[[0.0, 17.5], [0.0, 10.100000381469727], [-0.3...</td>\n",
       "    </tr>\n",
       "    <tr>\n",
       "      <th>1</th>\n",
       "      <td>01/08/2014</td>\n",
       "      <td>[[-0.30000001192092896, 1.399999976158142], [0...</td>\n",
       "    </tr>\n",
       "    <tr>\n",
       "      <th>2</th>\n",
       "      <td>01/09/2014</td>\n",
       "      <td>[[0.0, 7.199999809265137], [-0.400000005960464...</td>\n",
       "    </tr>\n",
       "    <tr>\n",
       "      <th>3</th>\n",
       "      <td>01/10/2014</td>\n",
       "      <td>[[0.20000000298023224, 10.199999809265137], [-...</td>\n",
       "    </tr>\n",
       "    <tr>\n",
       "      <th>4</th>\n",
       "      <td>01/11/2014</td>\n",
       "      <td>[[0.10000000149011612, 9.399999618530273], [0....</td>\n",
       "    </tr>\n",
       "    <tr>\n",
       "      <th>5</th>\n",
       "      <td>01/12/2014</td>\n",
       "      <td>[[0.0, 1.2999999523162842], [0.0, 2.2000000476...</td>\n",
       "    </tr>\n",
       "    <tr>\n",
       "      <th>6</th>\n",
       "      <td>01/13/2014</td>\n",
       "      <td>[[-0.20000000298023224, 2.200000047683716], [0...</td>\n",
       "    </tr>\n",
       "    <tr>\n",
       "      <th>7</th>\n",
       "      <td>01/14/2014</td>\n",
       "      <td>[[-0.10000000149011612, 1.600000023841858], [0...</td>\n",
       "    </tr>\n",
       "    <tr>\n",
       "      <th>8</th>\n",
       "      <td>01/15/2014</td>\n",
       "      <td>[[0.0, 1.5], [0.0, 7.400000095367432], [0.0, 3...</td>\n",
       "    </tr>\n",
       "    <tr>\n",
       "      <th>9</th>\n",
       "      <td>01/16/2014</td>\n",
       "      <td>[[0.0, 19.0], [-0.10000000149011612, 4.5999999...</td>\n",
       "    </tr>\n",
       "    <tr>\n",
       "      <th>10</th>\n",
       "      <td>01/17/2014</td>\n",
       "      <td>[[0.0, 13.899999618530273], [0.100000001490116...</td>\n",
       "    </tr>\n",
       "    <tr>\n",
       "      <th>11</th>\n",
       "      <td>01/18/2014</td>\n",
       "      <td>[[-0.10000000149011612, 4.0], [0.1000000014901...</td>\n",
       "    </tr>\n",
       "    <tr>\n",
       "      <th>12</th>\n",
       "      <td>01/19/2014</td>\n",
       "      <td>[[0.0, 8.0], [0.0, 16.899999618530273], [0.0, ...</td>\n",
       "    </tr>\n",
       "    <tr>\n",
       "      <th>13</th>\n",
       "      <td>01/20/2014</td>\n",
       "      <td>[[-0.20000000298023224, 8.199999809265137], [0...</td>\n",
       "    </tr>\n",
       "    <tr>\n",
       "      <th>14</th>\n",
       "      <td>01/21/2014</td>\n",
       "      <td>[[0.10000000149011612, 3.200000047683716], [0....</td>\n",
       "    </tr>\n",
       "    <tr>\n",
       "      <th>15</th>\n",
       "      <td>01/22/2014</td>\n",
       "      <td>[[0.0, 10.399999618530273], [0.0, 6.5], [0.0, ...</td>\n",
       "    </tr>\n",
       "    <tr>\n",
       "      <th>16</th>\n",
       "      <td>01/23/2014</td>\n",
       "      <td>[[0.0, 6.199999809265137], [0.0, 11.6000003814...</td>\n",
       "    </tr>\n",
       "    <tr>\n",
       "      <th>17</th>\n",
       "      <td>01/24/2014</td>\n",
       "      <td>[[-0.10000000149011612, 11.899999618530273], [...</td>\n",
       "    </tr>\n",
       "    <tr>\n",
       "      <th>18</th>\n",
       "      <td>01/25/2014</td>\n",
       "      <td>[Non-profit journalistic organisation WikiLeak...</td>\n",
       "    </tr>\n",
       "    <tr>\n",
       "      <th>19</th>\n",
       "      <td>01/26/2014</td>\n",
       "      <td>[[0.10000000149011612, 7.5], [-0.1000000014901...</td>\n",
       "    </tr>\n",
       "  </tbody>\n",
       "</table>\n",
       "</div>"
      ],
      "text/plain": [
       "          Date                       Article[Sentiment,Magnitude]\n",
       "0   01/07/2014  [[0.0, 17.5], [0.0, 10.100000381469727], [-0.3...\n",
       "1   01/08/2014  [[-0.30000001192092896, 1.399999976158142], [0...\n",
       "2   01/09/2014  [[0.0, 7.199999809265137], [-0.400000005960464...\n",
       "3   01/10/2014  [[0.20000000298023224, 10.199999809265137], [-...\n",
       "4   01/11/2014  [[0.10000000149011612, 9.399999618530273], [0....\n",
       "5   01/12/2014  [[0.0, 1.2999999523162842], [0.0, 2.2000000476...\n",
       "6   01/13/2014  [[-0.20000000298023224, 2.200000047683716], [0...\n",
       "7   01/14/2014  [[-0.10000000149011612, 1.600000023841858], [0...\n",
       "8   01/15/2014  [[0.0, 1.5], [0.0, 7.400000095367432], [0.0, 3...\n",
       "9   01/16/2014  [[0.0, 19.0], [-0.10000000149011612, 4.5999999...\n",
       "10  01/17/2014  [[0.0, 13.899999618530273], [0.100000001490116...\n",
       "11  01/18/2014  [[-0.10000000149011612, 4.0], [0.1000000014901...\n",
       "12  01/19/2014  [[0.0, 8.0], [0.0, 16.899999618530273], [0.0, ...\n",
       "13  01/20/2014  [[-0.20000000298023224, 8.199999809265137], [0...\n",
       "14  01/21/2014  [[0.10000000149011612, 3.200000047683716], [0....\n",
       "15  01/22/2014  [[0.0, 10.399999618530273], [0.0, 6.5], [0.0, ...\n",
       "16  01/23/2014  [[0.0, 6.199999809265137], [0.0, 11.6000003814...\n",
       "17  01/24/2014  [[-0.10000000149011612, 11.899999618530273], [...\n",
       "18  01/25/2014  [Non-profit journalistic organisation WikiLeak...\n",
       "19  01/26/2014  [[0.10000000149011612, 7.5], [-0.1000000014901..."
      ]
     },
     "execution_count": 96,
     "metadata": {},
     "output_type": "execute_result"
    }
   ],
   "source": [
    "# Imports the Google Cloud client library\n",
    "from google.cloud import language\n",
    "from google.cloud.language import enums\n",
    "from google.cloud.language import types\n",
    "\n",
    "import os\n",
    "os.environ[\"GOOGLE_APPLICATION_CREDENTIALS\"]=\"My First Project-c0f75529e52c.json\"\n",
    "\n",
    "# Instantiates a client\n",
    "client = language.LanguageServiceClient()\n",
    "\n",
    "\n",
    "def compute_sentiment_scores(articles_list):\n",
    "    try:\n",
    "        articles_list[:] = [[client.analyze_sentiment(document=language.types.Document(content=article,type='PLAIN_TEXT',), encoding_type='UTF32',).document_sentiment.score, client.analyze_sentiment(document=language.types.Document(content=article,type='PLAIN_TEXT',), encoding_type='UTF32',).document_sentiment.magnitude] for article in articles_list]\n",
    "    except:\n",
    "        for article in articles_list:\n",
    "            articles_list.remove(article)\n",
    "    return articles_list\n",
    "\n",
    "for dt in ['01/12/2014','01/19/2014','01/25/2014','02/01/2014','02/09/2014','02/16/2014','03/02/2014','03/15/2014','03/22/2014','03/29/2014','04/05/2014','04/11/2014','04/13/2014','04/19/2014','04/26/2014','04/27/2014','06/14/2014','06/22/2014','07/12/2014','07/20/2014','07/26/2014','08/25/2014','09/07/2014','09/13/2014','09/27/2014','10/11/2014','11/15/2014','11/16/2014','12/25/2014', '01/25/2015','02/06/2015','02/08/2015','02/14/2015','02/22/2015','03/28/2015','05/10/2015','05/17/2015','06/28/2015','08/02/2015','08/08/2015','08/23/2015','09/13/2015','10/09/2015','10/18/2015','10/24/2015','12/27/2015','12/31/2015', '01/10/2016','01/23/2016','04/02/2016','05/28/2016','06/12/2016','06/18/2016','08/20/2016','10/09/2016','01/25/2017']:\n",
    "    articles_sentiments['Article[Sentiment,Magnitude]'][articles_sentiments['Date'] == dt] = articles_sentiments['Article[Sentiment,Magnitude]'][articles_sentiments['Date'] == dt].apply(compute_sentiment_scores)\n",
    "\n",
    "articles_sentiments.head(20)"
   ]
  },
  {
   "cell_type": "markdown",
   "metadata": {},
   "source": [
    "### Write Article Sentiment Dataframe to CSV"
   ]
  },
  {
   "cell_type": "code",
   "execution_count": 100,
   "metadata": {},
   "outputs": [],
   "source": [
    "articles_sentiments.to_csv('bitcoin_news_articles_sentiments_2014_2017.csv', index=False)"
   ]
  },
  {
   "cell_type": "markdown",
   "metadata": {},
   "source": [
    "## Classifying the news articles"
   ]
  },
  {
   "cell_type": "code",
   "execution_count": 188,
   "metadata": {},
   "outputs": [
    {
     "data": {
      "text/html": [
       "<div>\n",
       "<style>\n",
       "    .dataframe thead tr:only-child th {\n",
       "        text-align: right;\n",
       "    }\n",
       "\n",
       "    .dataframe thead th {\n",
       "        text-align: left;\n",
       "    }\n",
       "\n",
       "    .dataframe tbody tr th {\n",
       "        vertical-align: top;\n",
       "    }\n",
       "</style>\n",
       "<table border=\"1\" class=\"dataframe\">\n",
       "  <thead>\n",
       "    <tr style=\"text-align: right;\">\n",
       "      <th></th>\n",
       "      <th>Date</th>\n",
       "      <th>Article[Sentiment,Magnitude]</th>\n",
       "    </tr>\n",
       "  </thead>\n",
       "  <tbody>\n",
       "    <tr>\n",
       "      <th>0</th>\n",
       "      <td>1/7/14</td>\n",
       "      <td>[[0.0, 17.5], [0.0, 10.100000381469727], [-0.3...</td>\n",
       "    </tr>\n",
       "    <tr>\n",
       "      <th>1</th>\n",
       "      <td>1/8/14</td>\n",
       "      <td>[[-0.30000001192092896, 1.399999976158142], [0...</td>\n",
       "    </tr>\n",
       "    <tr>\n",
       "      <th>2</th>\n",
       "      <td>1/9/14</td>\n",
       "      <td>[[0.0, 7.199999809265137], [-0.400000005960464...</td>\n",
       "    </tr>\n",
       "    <tr>\n",
       "      <th>3</th>\n",
       "      <td>1/10/14</td>\n",
       "      <td>[[0.20000000298023224, 10.199999809265137], [-...</td>\n",
       "    </tr>\n",
       "    <tr>\n",
       "      <th>4</th>\n",
       "      <td>1/11/14</td>\n",
       "      <td>[[0.10000000149011612, 9.399999618530273], [0....</td>\n",
       "    </tr>\n",
       "  </tbody>\n",
       "</table>\n",
       "</div>"
      ],
      "text/plain": [
       "      Date                       Article[Sentiment,Magnitude]\n",
       "0   1/7/14  [[0.0, 17.5], [0.0, 10.100000381469727], [-0.3...\n",
       "1   1/8/14  [[-0.30000001192092896, 1.399999976158142], [0...\n",
       "2   1/9/14  [[0.0, 7.199999809265137], [-0.400000005960464...\n",
       "3  1/10/14  [[0.20000000298023224, 10.199999809265137], [-...\n",
       "4  1/11/14  [[0.10000000149011612, 9.399999618530273], [0...."
      ]
     },
     "execution_count": 188,
     "metadata": {},
     "output_type": "execute_result"
    }
   ],
   "source": [
    "import pandas as pd\n",
    "from ast import literal_eval\n",
    "\n",
    "articles_sentiments_final = pd.read_csv('bitcoin_news_articles_sentiments_2014_2017.csv', converters={\"Article[Sentiment,Magnitude]\": literal_eval})\n",
    "articles_sentiments_final.head()"
   ]
  },
  {
   "cell_type": "markdown",
   "metadata": {},
   "source": [
    "For my classification I decided to compute the average sentiment value for each day. The chart below shows some sample values and how to interpret them:\n",
    "\n",
    "![alt text](Sentiment_Score_Sample_Chart.png \"Sentiment_Score_Sample_Chart\")"
   ]
  },
  {
   "cell_type": "markdown",
   "metadata": {},
   "source": [
    "The bar below represents the polarity of my scores. I chose a threshold value of 0.25 and above for Clearly Positive Sentiment and -0.25 and below for Clearly Negative Sentiment. Neutral at 0."
   ]
  },
  {
   "cell_type": "markdown",
   "metadata": {},
   "source": [
    "![alt text](Sentiment_Score_Range.png \"Sentiment Score Range\")"
   ]
  },
  {
   "cell_type": "code",
   "execution_count": 189,
   "metadata": {},
   "outputs": [
    {
     "data": {
      "text/html": [
       "<div>\n",
       "<style>\n",
       "    .dataframe thead tr:only-child th {\n",
       "        text-align: right;\n",
       "    }\n",
       "\n",
       "    .dataframe thead th {\n",
       "        text-align: left;\n",
       "    }\n",
       "\n",
       "    .dataframe tbody tr th {\n",
       "        vertical-align: top;\n",
       "    }\n",
       "</style>\n",
       "<table border=\"1\" class=\"dataframe\">\n",
       "  <thead>\n",
       "    <tr style=\"text-align: right;\">\n",
       "      <th></th>\n",
       "      <th>Date</th>\n",
       "      <th>Average Sentiment Score</th>\n",
       "    </tr>\n",
       "  </thead>\n",
       "  <tbody>\n",
       "    <tr>\n",
       "      <th>0</th>\n",
       "      <td>1/7/14</td>\n",
       "      <td>-0.070</td>\n",
       "    </tr>\n",
       "    <tr>\n",
       "      <th>1</th>\n",
       "      <td>1/8/14</td>\n",
       "      <td>-0.150</td>\n",
       "    </tr>\n",
       "    <tr>\n",
       "      <th>2</th>\n",
       "      <td>1/9/14</td>\n",
       "      <td>-0.180</td>\n",
       "    </tr>\n",
       "    <tr>\n",
       "      <th>3</th>\n",
       "      <td>1/10/14</td>\n",
       "      <td>0.110</td>\n",
       "    </tr>\n",
       "    <tr>\n",
       "      <th>4</th>\n",
       "      <td>1/11/14</td>\n",
       "      <td>-0.025</td>\n",
       "    </tr>\n",
       "  </tbody>\n",
       "</table>\n",
       "</div>"
      ],
      "text/plain": [
       "      Date  Average Sentiment Score\n",
       "0   1/7/14                   -0.070\n",
       "1   1/8/14                   -0.150\n",
       "2   1/9/14                   -0.180\n",
       "3  1/10/14                    0.110\n",
       "4  1/11/14                   -0.025"
      ]
     },
     "execution_count": 189,
     "metadata": {},
     "output_type": "execute_result"
    }
   ],
   "source": [
    "# Helper function to isolate and compute net Sentiment score for each day starting 1/7/2014 - 12/12/2017\n",
    "def avg_sentiment_score(sent_score_list):\n",
    "    sent_list = [sent_score[0] for sent_score in sent_score_list]\n",
    "    avg_sent_score = sum(sent_list)/len(sent_list)\n",
    "    return avg_sent_score\n",
    "\n",
    "articles_sentiments_final['Average Sentiment Score'] = articles_sentiments_final['Article[Sentiment,Magnitude]'].apply(avg_sentiment_score)\n",
    "articles_sentiments_final = articles_sentiments_final.drop(['Article[Sentiment,Magnitude]'], axis=1)\n",
    "articles_sentiments_final.head()"
   ]
  },
  {
   "cell_type": "markdown",
   "metadata": {},
   "source": [
    "## Write Secondary Feature Set Dataframe to CSV"
   ]
  },
  {
   "cell_type": "code",
   "execution_count": 190,
   "metadata": {},
   "outputs": [],
   "source": [
    "articles_sentiments_final.to_csv('bitcoin_news_average_sentiments_2014_2017.csv', index=False)"
   ]
  }
 ],
 "metadata": {
  "kernelspec": {
   "display_name": "Python 3",
   "language": "python",
   "name": "python3"
  },
  "language_info": {
   "codemirror_mode": {
    "name": "ipython",
    "version": 3
   },
   "file_extension": ".py",
   "mimetype": "text/x-python",
   "name": "python",
   "nbconvert_exporter": "python",
   "pygments_lexer": "ipython3",
   "version": "3.6.3"
  }
 },
 "nbformat": 4,
 "nbformat_minor": 2
}
