{
 "cells": [
  {
   "cell_type": "markdown",
   "metadata": {},
   "source": [
    "# Sentiment Analysis of Top Google News Articles for keyword bitcoin\n",
    "---"
   ]
  },
  {
   "cell_type": "markdown",
   "metadata": {},
   "source": [
    "This notebook outlines my process of analyzing sentiments of each article contained in the article list for a particular date starting from January 7, 2014 up to December 12, 2017 with respect to the keyword **bitcoin**.\n",
    "> You can view how I scraped these articles in this [notebook](Google News Scraper.ipynb).\n",
    "\n",
    "For the analysis and computation of sentiment scores I decided to use Google's [Cloud Natural Language](https://cloud.google.com/natural-language/?utm_source=google&utm_medium=cpc&utm_campaign=na-US-all-en-dr-bkws-all-all-trial-p-dr-1002250&utm_content=text-ad-none-any-DEV_c-CRE_185611873602-ADGP_SKWS+%7C+Multi+%7E+null_Sentiment+Analysis-KWID_43700019167264275-kwd-2176092866&utm_term=KW_sentiment%20analysis-ST_sentiment+analysis&gclid=Cj0KCQiAgs7RBRDoARIsANOo-HhpmqiO5CsfaH9PMwL2dDVs8rrNyeiBE7QSac4Gmzzrgt9YpJlnSAIaAstzEALw_wcB&dclid=CMeTv6zbjdgCFdcKNwodDcQCAA).\n",
    "> **Note**: This notebook was run locally after configuring the local system according the protocols defined [here](https://cloud.google.com/natural-language/docs/quickstart)."
   ]
  },
  {
   "cell_type": "markdown",
   "metadata": {},
   "source": [
    "## Introduction"
   ]
  },
  {
   "cell_type": "markdown",
   "metadata": {},
   "source": [
    "Sentiment analysis attempts to determine the overall attitude (positive or negative) expressed within the text. Sentiment is represented by numerical score and magnitude values."
   ]
  },
  {
   "cell_type": "markdown",
   "metadata": {},
   "source": [
    "### Sentiment Analysis Response Fields"
   ]
  },
  {
   "cell_type": "markdown",
   "metadata": {},
   "source": [
    "A sample analyzeSentiment response to the [Gettysburg Address](https://en.wikipedia.org/wiki/Gettysburg_Address) is shown below:\n",
    "\n",
    "![alt text](analyzeSentiment JSON response.png \"analyzeSentiment JSON response\")"
   ]
  },
  {
   "cell_type": "markdown",
   "metadata": {},
   "source": [
    "These field values are described below:\n",
    "\n",
    "* **documentSentiment** contains the overall sentiment of the document, which consists of the following fields:\n",
    "    * **score** of the sentiment ranges between -1.0 (negative) and 1.0 (positive) and corresponds to the overall emotional leaning of the text.\n",
    "    * **magnitude** indicates the overall strength of emotion (both positive and negative) within the given text, between **0.0** and **+inf**. Unlike **score**, **magnitude** is not normalized; each expression of emotion within the text (both positive and negative) contributes to the text's **magnitude** (so longer text blocks may have greater magnitudes).\n",
    "* **language** contains the language of the document, either passed in the initial request, or automatically detected if absent.\n",
    "* **sentences** contains a list of the sentences extracted from the original document, which contains:\n",
    "    * **sentiment** contains the sentence level sentiment values attached to each sentence, which contain **score** and **magnitude** values as described above.\n",
    "    \n",
    "A response value to the Gettysburg Address of **0.2** score indicates a document which is slightly positive in emotion, while the value of **3.6** indicates a relatively emotional document, given its small size (of about a paragraph). Note that the first sentence of the Gettysburg address contains a very high positive **score** of **0.8**."
   ]
  },
  {
   "cell_type": "markdown",
   "metadata": {},
   "source": [
    "### Interpreting sentiment analysis values"
   ]
  },
  {
   "cell_type": "markdown",
   "metadata": {},
   "source": [
    "The **score** of a document's sentiment indicates the overall emotion of a document. The **magnitude** of a document's sentiment indicates how much emotional content is present within the document, and this value is often proportional to the length of the document.\n",
    "\n",
    "It is important to note that the Natural Language API indicates differences between positive and negative emotion in a document, but does not identify specific positive and negative emotions. For example, \"angry\" and \"sad\" are both considered negative emotions. However, when the Natural Language API analyzes text that is considered \"angry\", or text that is considered \"sad\", the response only indicates that the sentiment in the text is negative, not \"sad\" or \"angry\".\n",
    "\n",
    "A document with a neutral score (around **0.0**) may indicate a low-emotion document, or may indicate mixed emotions, with both high positive and negative values which cancel each out. Generally, you can use **magnitude** values to disambiguate these cases, as truly neutral documents will have a low **magnitude** value, while mixed documents will have higher **magnitude** values.\n",
    "\n",
    "When comparing documents to each other (especially documents of different length), make sure to use the **magnitude** values to calibrate your **scores**, as they can help you gauge the relevant amount of emotional content."
   ]
  },
  {
   "cell_type": "markdown",
   "metadata": {},
   "source": [
    "## Read the Data"
   ]
  },
  {
   "cell_type": "markdown",
   "metadata": {},
   "source": [
    "All article CSVs have been renamed to qualify for alphabetical sorting to enable faster processing of individual months CSV files for years 2015-2017."
   ]
  },
  {
   "cell_type": "markdown",
   "metadata": {},
   "source": [
    "### 2014"
   ]
  },
  {
   "cell_type": "code",
   "execution_count": 7,
   "metadata": {},
   "outputs": [
    {
     "data": {
      "text/html": [
       "<div>\n",
       "<style>\n",
       "    .dataframe thead tr:only-child th {\n",
       "        text-align: right;\n",
       "    }\n",
       "\n",
       "    .dataframe thead th {\n",
       "        text-align: left;\n",
       "    }\n",
       "\n",
       "    .dataframe tbody tr th {\n",
       "        vertical-align: top;\n",
       "    }\n",
       "</style>\n",
       "<table border=\"1\" class=\"dataframe\">\n",
       "  <thead>\n",
       "    <tr style=\"text-align: right;\">\n",
       "      <th></th>\n",
       "      <th>Date</th>\n",
       "      <th>Articles</th>\n",
       "    </tr>\n",
       "  </thead>\n",
       "  <tbody>\n",
       "    <tr>\n",
       "      <th>6</th>\n",
       "      <td>01/07/2014</td>\n",
       "      <td>[Move over Dogecoin: the Herncoin is here. But...</td>\n",
       "    </tr>\n",
       "    <tr>\n",
       "      <th>7</th>\n",
       "      <td>01/08/2014</td>\n",
       "      <td>[Pop star Lily Allen has voiced her regret at ...</td>\n",
       "    </tr>\n",
       "    <tr>\n",
       "      <th>8</th>\n",
       "      <td>01/09/2014</td>\n",
       "      <td>[The world's first insured bitcoin storage ser...</td>\n",
       "    </tr>\n",
       "    <tr>\n",
       "      <th>9</th>\n",
       "      <td>01/10/2014</td>\n",
       "      <td>[Less than 30 minutes after online retailer Ov...</td>\n",
       "    </tr>\n",
       "    <tr>\n",
       "      <th>10</th>\n",
       "      <td>01/11/2014</td>\n",
       "      <td>[The price of bitcoin reached $1,000 again tod...</td>\n",
       "    </tr>\n",
       "  </tbody>\n",
       "</table>\n",
       "</div>"
      ],
      "text/plain": [
       "          Date                                           Articles\n",
       "6   01/07/2014  [Move over Dogecoin: the Herncoin is here. But...\n",
       "7   01/08/2014  [Pop star Lily Allen has voiced her regret at ...\n",
       "8   01/09/2014  [The world's first insured bitcoin storage ser...\n",
       "9   01/10/2014  [Less than 30 minutes after online retailer Ov...\n",
       "10  01/11/2014  [The price of bitcoin reached $1,000 again tod..."
      ]
     },
     "execution_count": 7,
     "metadata": {},
     "output_type": "execute_result"
    }
   ],
   "source": [
    "import pandas as pd\n",
    "from ast import literal_eval\n",
    "\n",
    "# pd.set_option('display.max_rows', 500) ##Uncomment if you want to view entire dataframe\n",
    "\n",
    "# Year 2014 Articles\n",
    "df_2014 = pd.read_csv('Articles/2014/articles_2014.csv', converters={\"Articles\": literal_eval})\n",
    "\n",
    "# Function to remove articles containing '\\n\\n' and omit empty list items\n",
    "def clean_article_list(articles_list):\n",
    "    articles_list[:] = [article.replace('\\n\\n','') for article in articles_list if article != \"\"]\n",
    "    return articles_list\n",
    "\n",
    "# Applying above function    \n",
    "df_2014['Articles'] = df_2014['Articles'].apply(clean_article_list)\n",
    "\n",
    "# Uniformity with respect to historical bitcoin price values date range\n",
    "df_2014 = df_2014[df_2014['Date']>'01/06/2014']\n",
    "\n",
    "df_2014.head()"
   ]
  },
  {
   "cell_type": "markdown",
   "metadata": {},
   "source": [
    "### 2015"
   ]
  },
  {
   "cell_type": "code",
   "execution_count": 8,
   "metadata": {},
   "outputs": [
    {
     "data": {
      "text/html": [
       "<div>\n",
       "<style>\n",
       "    .dataframe thead tr:only-child th {\n",
       "        text-align: right;\n",
       "    }\n",
       "\n",
       "    .dataframe thead th {\n",
       "        text-align: left;\n",
       "    }\n",
       "\n",
       "    .dataframe tbody tr th {\n",
       "        vertical-align: top;\n",
       "    }\n",
       "</style>\n",
       "<table border=\"1\" class=\"dataframe\">\n",
       "  <thead>\n",
       "    <tr style=\"text-align: right;\">\n",
       "      <th></th>\n",
       "      <th>Date</th>\n",
       "      <th>Articles</th>\n",
       "    </tr>\n",
       "  </thead>\n",
       "  <tbody>\n",
       "    <tr>\n",
       "      <th>0</th>\n",
       "      <td>01/01/2015</td>\n",
       "      <td>[The disappearance of 99% of the bitcoins miss...</td>\n",
       "    </tr>\n",
       "    <tr>\n",
       "      <th>1</th>\n",
       "      <td>01/02/2015</td>\n",
       "      <td>[[Editor's note: The original version of this ...</td>\n",
       "    </tr>\n",
       "    <tr>\n",
       "      <th>2</th>\n",
       "      <td>01/03/2015</td>\n",
       "      <td>[So, it happened. After some time moving in a ...</td>\n",
       "    </tr>\n",
       "    <tr>\n",
       "      <th>3</th>\n",
       "      <td>01/04/2015</td>\n",
       "      <td>[2014 was a bad year for people who own bitcoi...</td>\n",
       "    </tr>\n",
       "    <tr>\n",
       "      <th>4</th>\n",
       "      <td>01/05/2015</td>\n",
       "      <td>[UPDATE (5th January 09:43 GMT): Bitstamp has ...</td>\n",
       "    </tr>\n",
       "  </tbody>\n",
       "</table>\n",
       "</div>"
      ],
      "text/plain": [
       "         Date                                           Articles\n",
       "0  01/01/2015  [The disappearance of 99% of the bitcoins miss...\n",
       "1  01/02/2015  [[Editor's note: The original version of this ...\n",
       "2  01/03/2015  [So, it happened. After some time moving in a ...\n",
       "3  01/04/2015  [2014 was a bad year for people who own bitcoi...\n",
       "4  01/05/2015  [UPDATE (5th January 09:43 GMT): Bitstamp has ..."
      ]
     },
     "execution_count": 8,
     "metadata": {},
     "output_type": "execute_result"
    }
   ],
   "source": [
    "import os, glob\n",
    "\n",
    "path = 'Articles/2015'\n",
    "all_files = sorted(glob.glob(os.path.join(path, \"*.csv\")))\n",
    "\n",
    "# Year 2015 Articles\n",
    "df_2015 = pd.concat((pd.read_csv(f, converters={\"Articles\": literal_eval}, encoding='windows-1252', index_col=None, header=0) for f in all_files))\n",
    "\n",
    "df_2015['Articles'] = df_2015['Articles'].apply(clean_article_list)\n",
    "\n",
    "df_2015.head()"
   ]
  },
  {
   "cell_type": "markdown",
   "metadata": {},
   "source": [
    "### 2016"
   ]
  },
  {
   "cell_type": "code",
   "execution_count": 9,
   "metadata": {},
   "outputs": [
    {
     "data": {
      "text/html": [
       "<div>\n",
       "<style>\n",
       "    .dataframe thead tr:only-child th {\n",
       "        text-align: right;\n",
       "    }\n",
       "\n",
       "    .dataframe thead th {\n",
       "        text-align: left;\n",
       "    }\n",
       "\n",
       "    .dataframe tbody tr th {\n",
       "        vertical-align: top;\n",
       "    }\n",
       "</style>\n",
       "<table border=\"1\" class=\"dataframe\">\n",
       "  <thead>\n",
       "    <tr style=\"text-align: right;\">\n",
       "      <th></th>\n",
       "      <th>Date</th>\n",
       "      <th>Articles</th>\n",
       "    </tr>\n",
       "  </thead>\n",
       "  <tbody>\n",
       "    <tr>\n",
       "      <th>0</th>\n",
       "      <td>01/01/2016</td>\n",
       "      <td>[Bitcoin Weekly Recap 1-1-2016Happy New Year f...</td>\n",
       "    </tr>\n",
       "    <tr>\n",
       "      <th>1</th>\n",
       "      <td>01/02/2016</td>\n",
       "      <td>[The most epochal financial transaction of thi...</td>\n",
       "    </tr>\n",
       "    <tr>\n",
       "      <th>2</th>\n",
       "      <td>01/03/2016</td>\n",
       "      <td>[Like most coffee shops, Java Express in Dougl...</td>\n",
       "    </tr>\n",
       "    <tr>\n",
       "      <th>3</th>\n",
       "      <td>01/04/2016</td>\n",
       "      <td>[Mike Tyson’s Bitcoin ambitions don’t stop wit...</td>\n",
       "    </tr>\n",
       "    <tr>\n",
       "      <th>4</th>\n",
       "      <td>01/05/2016</td>\n",
       "      <td>[Movie star and former heavyweight champion of...</td>\n",
       "    </tr>\n",
       "  </tbody>\n",
       "</table>\n",
       "</div>"
      ],
      "text/plain": [
       "         Date                                           Articles\n",
       "0  01/01/2016  [Bitcoin Weekly Recap 1-1-2016Happy New Year f...\n",
       "1  01/02/2016  [The most epochal financial transaction of thi...\n",
       "2  01/03/2016  [Like most coffee shops, Java Express in Dougl...\n",
       "3  01/04/2016  [Mike Tyson’s Bitcoin ambitions don’t stop wit...\n",
       "4  01/05/2016  [Movie star and former heavyweight champion of..."
      ]
     },
     "execution_count": 9,
     "metadata": {},
     "output_type": "execute_result"
    }
   ],
   "source": [
    "import os, glob\n",
    "path = 'Articles/2016'\n",
    "all_files = sorted(glob.glob(os.path.join(path, \"*.csv\")))\n",
    "\n",
    "# Year 2016 Articles\n",
    "df_2016_1 = pd.concat((pd.read_csv(f, converters={\"Articles\": literal_eval}, encoding='windows-1252', index_col=None, header=0) for f in all_files[0:7]))\n",
    "df_2016_2 = pd.concat((pd.read_csv(f, converters={\"Articles\": literal_eval}, index_col=None, header=0) for f in all_files[7:]))\n",
    "df_2016 = pd.concat([df_2016_1,df_2016_2])\n",
    "\n",
    "df_2016['Articles'] = df_2016['Articles'].apply(clean_article_list)\n",
    "\n",
    "df_2016.head()"
   ]
  },
  {
   "cell_type": "markdown",
   "metadata": {},
   "source": [
    "### 2017"
   ]
  },
  {
   "cell_type": "code",
   "execution_count": 10,
   "metadata": {},
   "outputs": [
    {
     "data": {
      "text/html": [
       "<div>\n",
       "<style>\n",
       "    .dataframe thead tr:only-child th {\n",
       "        text-align: right;\n",
       "    }\n",
       "\n",
       "    .dataframe thead th {\n",
       "        text-align: left;\n",
       "    }\n",
       "\n",
       "    .dataframe tbody tr th {\n",
       "        vertical-align: top;\n",
       "    }\n",
       "</style>\n",
       "<table border=\"1\" class=\"dataframe\">\n",
       "  <thead>\n",
       "    <tr style=\"text-align: right;\">\n",
       "      <th></th>\n",
       "      <th>Date</th>\n",
       "      <th>Articles</th>\n",
       "    </tr>\n",
       "  </thead>\n",
       "  <tbody>\n",
       "    <tr>\n",
       "      <th>0</th>\n",
       "      <td>01/01/2017</td>\n",
       "      <td>[The price of bitcoin inched upward over the c...</td>\n",
       "    </tr>\n",
       "    <tr>\n",
       "      <th>1</th>\n",
       "      <td>01/02/2017</td>\n",
       "      <td>[LONDON (Reuters) - Digital currency bitcoin k...</td>\n",
       "    </tr>\n",
       "    <tr>\n",
       "      <th>2</th>\n",
       "      <td>01/03/2017</td>\n",
       "      <td>[Image copyright Getty ImagesDigital currency ...</td>\n",
       "    </tr>\n",
       "    <tr>\n",
       "      <th>3</th>\n",
       "      <td>01/04/2017</td>\n",
       "      <td>[Bitcoin hit an all-time high Wednesday, accor...</td>\n",
       "    </tr>\n",
       "    <tr>\n",
       "      <th>4</th>\n",
       "      <td>01/05/2017</td>\n",
       "      <td>[Bitcoin is off the lowest levels of its plung...</td>\n",
       "    </tr>\n",
       "  </tbody>\n",
       "</table>\n",
       "</div>"
      ],
      "text/plain": [
       "         Date                                           Articles\n",
       "0  01/01/2017  [The price of bitcoin inched upward over the c...\n",
       "1  01/02/2017  [LONDON (Reuters) - Digital currency bitcoin k...\n",
       "2  01/03/2017  [Image copyright Getty ImagesDigital currency ...\n",
       "3  01/04/2017  [Bitcoin hit an all-time high Wednesday, accor...\n",
       "4  01/05/2017  [Bitcoin is off the lowest levels of its plung..."
      ]
     },
     "execution_count": 10,
     "metadata": {},
     "output_type": "execute_result"
    }
   ],
   "source": [
    "import os, glob\n",
    "path = 'Articles/2017'\n",
    "all_files = sorted(glob.glob(os.path.join(path, \"*.csv\")))\n",
    "\n",
    "# Year 2017 Articles\n",
    "df_2017_1 = pd.concat((pd.read_csv(f, converters={\"Articles\": literal_eval}, index_col=None, header=0) for f in all_files[0:2]))\n",
    "df_2017_2 = pd.concat((pd.read_csv(f, converters={\"Articles\": literal_eval}, encoding='windows-1252', index_col=None, header=0) for f in all_files[2:]))\n",
    "df_2017 = pd.concat([df_2017_1,df_2017_2])\n",
    "\n",
    "df_2017['Articles'] = df_2017['Articles'].apply(clean_article_list)\n",
    "\n",
    "df_2017.head()"
   ]
  },
  {
   "cell_type": "markdown",
   "metadata": {},
   "source": [
    "### Final Dataframe"
   ]
  },
  {
   "cell_type": "code",
   "execution_count": 13,
   "metadata": {},
   "outputs": [
    {
     "data": {
      "text/html": [
       "<div>\n",
       "<style>\n",
       "    .dataframe thead tr:only-child th {\n",
       "        text-align: right;\n",
       "    }\n",
       "\n",
       "    .dataframe thead th {\n",
       "        text-align: left;\n",
       "    }\n",
       "\n",
       "    .dataframe tbody tr th {\n",
       "        vertical-align: top;\n",
       "    }\n",
       "</style>\n",
       "<table border=\"1\" class=\"dataframe\">\n",
       "  <thead>\n",
       "    <tr style=\"text-align: right;\">\n",
       "      <th></th>\n",
       "      <th>Date</th>\n",
       "      <th>Articles</th>\n",
       "      <th>Num of Articles</th>\n",
       "    </tr>\n",
       "  </thead>\n",
       "  <tbody>\n",
       "    <tr>\n",
       "      <th>6</th>\n",
       "      <td>01/07/2014</td>\n",
       "      <td>[Move over Dogecoin: the Herncoin is here. But...</td>\n",
       "      <td>10</td>\n",
       "    </tr>\n",
       "    <tr>\n",
       "      <th>7</th>\n",
       "      <td>01/08/2014</td>\n",
       "      <td>[Pop star Lily Allen has voiced her regret at ...</td>\n",
       "      <td>10</td>\n",
       "    </tr>\n",
       "    <tr>\n",
       "      <th>8</th>\n",
       "      <td>01/09/2014</td>\n",
       "      <td>[The world's first insured bitcoin storage ser...</td>\n",
       "      <td>10</td>\n",
       "    </tr>\n",
       "    <tr>\n",
       "      <th>9</th>\n",
       "      <td>01/10/2014</td>\n",
       "      <td>[Less than 30 minutes after online retailer Ov...</td>\n",
       "      <td>10</td>\n",
       "    </tr>\n",
       "    <tr>\n",
       "      <th>10</th>\n",
       "      <td>01/11/2014</td>\n",
       "      <td>[The price of bitcoin reached $1,000 again tod...</td>\n",
       "      <td>8</td>\n",
       "    </tr>\n",
       "  </tbody>\n",
       "</table>\n",
       "</div>"
      ],
      "text/plain": [
       "          Date                                           Articles  \\\n",
       "6   01/07/2014  [Move over Dogecoin: the Herncoin is here. But...   \n",
       "7   01/08/2014  [Pop star Lily Allen has voiced her regret at ...   \n",
       "8   01/09/2014  [The world's first insured bitcoin storage ser...   \n",
       "9   01/10/2014  [Less than 30 minutes after online retailer Ov...   \n",
       "10  01/11/2014  [The price of bitcoin reached $1,000 again tod...   \n",
       "\n",
       "    Num of Articles  \n",
       "6                10  \n",
       "7                10  \n",
       "8                10  \n",
       "9                10  \n",
       "10                8  "
      ]
     },
     "execution_count": 13,
     "metadata": {},
     "output_type": "execute_result"
    }
   ],
   "source": [
    "df_bitcoin_articles = pd.concat([df_2014, df_2015, df_2016, df_2017])\n",
    "df_bitcoin_articles['Num of Articles'] = df_bitcoin_articles['Articles'].map(lambda x: len(x))\n",
    "df_bitcoin_articles.head()"
   ]
  },
  {
   "cell_type": "markdown",
   "metadata": {},
   "source": [
    "### Writing final dataframe to CSV"
   ]
  },
  {
   "cell_type": "code",
   "execution_count": 6,
   "metadata": {},
   "outputs": [],
   "source": [
    "# Output has been computed and stored in the Articles/Combined folder\n",
    "# Uncomment if you want to compute output again\n",
    "\n",
    "# df_bitcoin_articles.to_csv('bitcoin_news_articles_2014_2017.csv', index=False)"
   ]
  },
  {
   "cell_type": "markdown",
   "metadata": {},
   "source": [
    "## Compute Sentiment Scores and Classify News Articles"
   ]
  },
  {
   "cell_type": "code",
   "execution_count": null,
   "metadata": {},
   "outputs": [],
   "source": [
    "# Imports the Google Cloud client library\n",
    "from google.cloud import language\n",
    "from google.cloud.language import enums\n",
    "from google.cloud.language import types\n",
    "\n",
    "import os\n",
    "os.environ[\"GOOGLE_APPLICATION_CREDENTIALS\"]=\"My-First-Project-3377f41be4cf.json\"\n",
    "\n",
    "# Instantiates a client\n",
    "client = language.LanguageServiceClient()\n",
    "\n",
    "def compute_sentiment_scores(articles_list):\n",
    "    try:\n",
    "        articles_list[:] = [[client.analyze_sentiment(document=language.types.Document(content=article,type='PLAIN_TEXT',), encoding_type='UTF32',).document_sentiment.score, client.analyze_sentiment(document=language.types.Document(content=article,type='PLAIN_TEXT',), encoding_type='UTF32',).document_sentiment.magnitude] for article in articles_list]\n",
    "    except:\n",
    "        for article in articles_list:\n",
    "            articles_list.remove(article)\n",
    "    return articles_list\n",
    "\n",
    "df_bitcoin_articles['Article[Sentiment,Magnitude]'] = df_bitcoin_articles['Articles'].apply(compute_sentiment_scores)\n",
    "df_bitcoin_articles.head()"
   ]
  },
  {
   "cell_type": "code",
   "execution_count": null,
   "metadata": {},
   "outputs": [],
   "source": []
  }
 ],
 "metadata": {
  "kernelspec": {
   "display_name": "Python 3",
   "language": "python",
   "name": "python3"
  },
  "language_info": {
   "codemirror_mode": {
    "name": "ipython",
    "version": 3
   },
   "file_extension": ".py",
   "mimetype": "text/x-python",
   "name": "python",
   "nbconvert_exporter": "python",
   "pygments_lexer": "ipython3",
   "version": "3.6.3"
  }
 },
 "nbformat": 4,
 "nbformat_minor": 2
}
